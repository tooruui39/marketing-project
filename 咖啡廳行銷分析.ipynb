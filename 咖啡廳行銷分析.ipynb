{
  "nbformat": 4,
  "nbformat_minor": 0,
  "metadata": {
    "colab": {
      "provenance": [],
      "authorship_tag": "ABX9TyMyKNUCbZ2AjnrumdQNrReA",
      "include_colab_link": true
    },
    "kernelspec": {
      "name": "python3",
      "display_name": "Python 3"
    },
    "language_info": {
      "name": "python"
    }
  },
  "cells": [
    {
      "cell_type": "markdown",
      "metadata": {
        "id": "view-in-github",
        "colab_type": "text"
      },
      "source": [
        "<a href=\"https://colab.research.google.com/github/tooruui39/marketing-project/blob/main/%E5%92%96%E5%95%A1%E5%BB%B3%E8%A1%8C%E9%8A%B7%E5%88%86%E6%9E%90.ipynb\" target=\"_parent\"><img src=\"https://colab.research.google.com/assets/colab-badge.svg\" alt=\"Open In Colab\"/></a>"
      ]
    },
    {
      "cell_type": "code",
      "execution_count": 1,
      "metadata": {
        "colab": {
          "base_uri": "https://localhost:8080/"
        },
        "id": "tz-fVjXIr-oO",
        "outputId": "6ba15565-5223-4b9d-fbec-a08a1e3c810a"
      },
      "outputs": [
        {
          "output_type": "stream",
          "name": "stdout",
          "text": [
            "Mounted at /content/drive\n"
          ]
        }
      ],
      "source": [
        "from google.colab import drive \n",
        "\n",
        "drive.mount('/content/drive')"
      ]
    },
    {
      "cell_type": "code",
      "source": [
        "myfolder = \"drive/My Drive/Learn-Statistics/DATA/\""
      ],
      "metadata": {
        "id": "bpkzE5X0sKbb"
      },
      "execution_count": 2,
      "outputs": []
    },
    {
      "cell_type": "code",
      "source": [
        "import pandas as pd\n",
        "from sklearn import linear_model \n",
        "from sklearn.preprocessing import StandardScaler\n",
        "from sklearn.model_selection import train_test_split\n",
        "from statsmodels.stats.outliers_influence import variance_inflation_factor\n",
        "import copy\n",
        "import math\n",
        "import matplotlib.pyplot as plt\n",
        "import seaborn as sns"
      ],
      "metadata": {
        "id": "WDpqt1sQsNOJ"
      },
      "execution_count": 6,
      "outputs": []
    },
    {
      "cell_type": "code",
      "source": [
        "cafe = pd.read_csv(myfolder + \"CAFE.csv\")\n",
        "cafe.head()"
      ],
      "metadata": {
        "colab": {
          "base_uri": "https://localhost:8080/",
          "height": 204
        },
        "id": "SBM5GZIhsRnq",
        "outputId": "65b1d95b-545e-4a32-b66c-70360082198f"
      },
      "execution_count": 4,
      "outputs": [
        {
          "output_type": "execute_result",
          "data": {
            "text/plain": [
              "    CAFE_ID  STATION_USER  MINUTES_FROM_STATION  COMPETITOR  AREA  SHEETS  \\\n",
              "0  CAFE0001         58690                     2           3    29      16   \n",
              "1  CAFE0002         74627                     0           4    33      17   \n",
              "2  CAFE0003         94738                     0           4    54      27   \n",
              "3  CAFE0004         97464                     0           3    59      31   \n",
              "4  CAFE0005         81798                     2           3    50      25   \n",
              "\n",
              "   LEADER_AGE  WORKERS  MENU     ADS    SALES SALES_RANK  \n",
              "0          30       14    19  264803  2956215          E  \n",
              "1          33       14    21  272278  2686770          E  \n",
              "2          29       22    23  265086  4094574          C  \n",
              "3          27       19    23  347455  4754772          B  \n",
              "4          29       16    21  289238  4393329          C  "
            ],
            "text/html": [
              "\n",
              "  <div id=\"df-1e8f0521-704b-44ad-8634-35613ee542b7\">\n",
              "    <div class=\"colab-df-container\">\n",
              "      <div>\n",
              "<style scoped>\n",
              "    .dataframe tbody tr th:only-of-type {\n",
              "        vertical-align: middle;\n",
              "    }\n",
              "\n",
              "    .dataframe tbody tr th {\n",
              "        vertical-align: top;\n",
              "    }\n",
              "\n",
              "    .dataframe thead th {\n",
              "        text-align: right;\n",
              "    }\n",
              "</style>\n",
              "<table border=\"1\" class=\"dataframe\">\n",
              "  <thead>\n",
              "    <tr style=\"text-align: right;\">\n",
              "      <th></th>\n",
              "      <th>CAFE_ID</th>\n",
              "      <th>STATION_USER</th>\n",
              "      <th>MINUTES_FROM_STATION</th>\n",
              "      <th>COMPETITOR</th>\n",
              "      <th>AREA</th>\n",
              "      <th>SHEETS</th>\n",
              "      <th>LEADER_AGE</th>\n",
              "      <th>WORKERS</th>\n",
              "      <th>MENU</th>\n",
              "      <th>ADS</th>\n",
              "      <th>SALES</th>\n",
              "      <th>SALES_RANK</th>\n",
              "    </tr>\n",
              "  </thead>\n",
              "  <tbody>\n",
              "    <tr>\n",
              "      <th>0</th>\n",
              "      <td>CAFE0001</td>\n",
              "      <td>58690</td>\n",
              "      <td>2</td>\n",
              "      <td>3</td>\n",
              "      <td>29</td>\n",
              "      <td>16</td>\n",
              "      <td>30</td>\n",
              "      <td>14</td>\n",
              "      <td>19</td>\n",
              "      <td>264803</td>\n",
              "      <td>2956215</td>\n",
              "      <td>E</td>\n",
              "    </tr>\n",
              "    <tr>\n",
              "      <th>1</th>\n",
              "      <td>CAFE0002</td>\n",
              "      <td>74627</td>\n",
              "      <td>0</td>\n",
              "      <td>4</td>\n",
              "      <td>33</td>\n",
              "      <td>17</td>\n",
              "      <td>33</td>\n",
              "      <td>14</td>\n",
              "      <td>21</td>\n",
              "      <td>272278</td>\n",
              "      <td>2686770</td>\n",
              "      <td>E</td>\n",
              "    </tr>\n",
              "    <tr>\n",
              "      <th>2</th>\n",
              "      <td>CAFE0003</td>\n",
              "      <td>94738</td>\n",
              "      <td>0</td>\n",
              "      <td>4</td>\n",
              "      <td>54</td>\n",
              "      <td>27</td>\n",
              "      <td>29</td>\n",
              "      <td>22</td>\n",
              "      <td>23</td>\n",
              "      <td>265086</td>\n",
              "      <td>4094574</td>\n",
              "      <td>C</td>\n",
              "    </tr>\n",
              "    <tr>\n",
              "      <th>3</th>\n",
              "      <td>CAFE0004</td>\n",
              "      <td>97464</td>\n",
              "      <td>0</td>\n",
              "      <td>3</td>\n",
              "      <td>59</td>\n",
              "      <td>31</td>\n",
              "      <td>27</td>\n",
              "      <td>19</td>\n",
              "      <td>23</td>\n",
              "      <td>347455</td>\n",
              "      <td>4754772</td>\n",
              "      <td>B</td>\n",
              "    </tr>\n",
              "    <tr>\n",
              "      <th>4</th>\n",
              "      <td>CAFE0005</td>\n",
              "      <td>81798</td>\n",
              "      <td>2</td>\n",
              "      <td>3</td>\n",
              "      <td>50</td>\n",
              "      <td>25</td>\n",
              "      <td>29</td>\n",
              "      <td>16</td>\n",
              "      <td>21</td>\n",
              "      <td>289238</td>\n",
              "      <td>4393329</td>\n",
              "      <td>C</td>\n",
              "    </tr>\n",
              "  </tbody>\n",
              "</table>\n",
              "</div>\n",
              "      <button class=\"colab-df-convert\" onclick=\"convertToInteractive('df-1e8f0521-704b-44ad-8634-35613ee542b7')\"\n",
              "              title=\"Convert this dataframe to an interactive table.\"\n",
              "              style=\"display:none;\">\n",
              "        \n",
              "  <svg xmlns=\"http://www.w3.org/2000/svg\" height=\"24px\"viewBox=\"0 0 24 24\"\n",
              "       width=\"24px\">\n",
              "    <path d=\"M0 0h24v24H0V0z\" fill=\"none\"/>\n",
              "    <path d=\"M18.56 5.44l.94 2.06.94-2.06 2.06-.94-2.06-.94-.94-2.06-.94 2.06-2.06.94zm-11 1L8.5 8.5l.94-2.06 2.06-.94-2.06-.94L8.5 2.5l-.94 2.06-2.06.94zm10 10l.94 2.06.94-2.06 2.06-.94-2.06-.94-.94-2.06-.94 2.06-2.06.94z\"/><path d=\"M17.41 7.96l-1.37-1.37c-.4-.4-.92-.59-1.43-.59-.52 0-1.04.2-1.43.59L10.3 9.45l-7.72 7.72c-.78.78-.78 2.05 0 2.83L4 21.41c.39.39.9.59 1.41.59.51 0 1.02-.2 1.41-.59l7.78-7.78 2.81-2.81c.8-.78.8-2.07 0-2.86zM5.41 20L4 18.59l7.72-7.72 1.47 1.35L5.41 20z\"/>\n",
              "  </svg>\n",
              "      </button>\n",
              "      \n",
              "  <style>\n",
              "    .colab-df-container {\n",
              "      display:flex;\n",
              "      flex-wrap:wrap;\n",
              "      gap: 12px;\n",
              "    }\n",
              "\n",
              "    .colab-df-convert {\n",
              "      background-color: #E8F0FE;\n",
              "      border: none;\n",
              "      border-radius: 50%;\n",
              "      cursor: pointer;\n",
              "      display: none;\n",
              "      fill: #1967D2;\n",
              "      height: 32px;\n",
              "      padding: 0 0 0 0;\n",
              "      width: 32px;\n",
              "    }\n",
              "\n",
              "    .colab-df-convert:hover {\n",
              "      background-color: #E2EBFA;\n",
              "      box-shadow: 0px 1px 2px rgba(60, 64, 67, 0.3), 0px 1px 3px 1px rgba(60, 64, 67, 0.15);\n",
              "      fill: #174EA6;\n",
              "    }\n",
              "\n",
              "    [theme=dark] .colab-df-convert {\n",
              "      background-color: #3B4455;\n",
              "      fill: #D2E3FC;\n",
              "    }\n",
              "\n",
              "    [theme=dark] .colab-df-convert:hover {\n",
              "      background-color: #434B5C;\n",
              "      box-shadow: 0px 1px 3px 1px rgba(0, 0, 0, 0.15);\n",
              "      filter: drop-shadow(0px 1px 2px rgba(0, 0, 0, 0.3));\n",
              "      fill: #FFFFFF;\n",
              "    }\n",
              "  </style>\n",
              "\n",
              "      <script>\n",
              "        const buttonEl =\n",
              "          document.querySelector('#df-1e8f0521-704b-44ad-8634-35613ee542b7 button.colab-df-convert');\n",
              "        buttonEl.style.display =\n",
              "          google.colab.kernel.accessAllowed ? 'block' : 'none';\n",
              "\n",
              "        async function convertToInteractive(key) {\n",
              "          const element = document.querySelector('#df-1e8f0521-704b-44ad-8634-35613ee542b7');\n",
              "          const dataTable =\n",
              "            await google.colab.kernel.invokeFunction('convertToInteractive',\n",
              "                                                     [key], {});\n",
              "          if (!dataTable) return;\n",
              "\n",
              "          const docLinkHtml = 'Like what you see? Visit the ' +\n",
              "            '<a target=\"_blank\" href=https://colab.research.google.com/notebooks/data_table.ipynb>data table notebook</a>'\n",
              "            + ' to learn more about interactive tables.';\n",
              "          element.innerHTML = '';\n",
              "          dataTable['output_type'] = 'display_data';\n",
              "          await google.colab.output.renderOutput(dataTable, element);\n",
              "          const docLink = document.createElement('div');\n",
              "          docLink.innerHTML = docLinkHtml;\n",
              "          element.appendChild(docLink);\n",
              "        }\n",
              "      </script>\n",
              "    </div>\n",
              "  </div>\n",
              "  "
            ]
          },
          "metadata": {},
          "execution_count": 4
        }
      ]
    },
    {
      "cell_type": "code",
      "source": [
        "columns = [\"STATION_USER\",\"MINUTES_FROM_STATION\",\"COMPETITOR\",\"AREA\",\"SHEETS\",\"LEADER_AGE\",\"WORKERS\",\"MENU\",\"ADS\"]\n",
        "X_var = cafe.loc[:,columns]\n",
        "y_var = cafe.loc[:,[\"SALES\"]]\n",
        "\n",
        "X_train, X_test, y_train, y_test = train_test_split(X_var, y_var, test_size=0.5, random_state=42)\n",
        "print(X_train.shape)\n",
        "print(X_test.shape)\n",
        "print(y_train.shape)\n",
        "print(y_test.shape)"
      ],
      "metadata": {
        "colab": {
          "base_uri": "https://localhost:8080/"
        },
        "id": "S6cPECqJ2zDd",
        "outputId": "4b465d6b-f99b-4b3b-e697-d6771e92ea89"
      },
      "execution_count": 8,
      "outputs": [
        {
          "output_type": "stream",
          "name": "stdout",
          "text": [
            "(64, 9)\n",
            "(64, 9)\n",
            "(64, 1)\n",
            "(64, 1)\n"
          ]
        }
      ]
    },
    {
      "cell_type": "code",
      "source": [
        "std_object_x = StandardScaler()\n",
        "std_object_x.fit(X_train)\n",
        "std_X_train = pd.DataFrame(std_object_x.transform(X_train),columns=columns)\n",
        "std_X_test = pd.DataFrame(std_object_x.transform(X_test),columns=columns)"
      ],
      "metadata": {
        "id": "gIahwyqZsUMa"
      },
      "execution_count": 9,
      "outputs": []
    },
    {
      "cell_type": "code",
      "source": [
        "std_object_y = StandardScaler()\n",
        "std_object_y.fit(y_train)\n",
        "std_y_train = pd.DataFrame(std_object_y.transform(y_train),columns=[\"SALES\"])\n",
        "std_y_test = pd.DataFrame(std_object_y.transform(y_test),columns=[\"SALES\"])"
      ],
      "metadata": {
        "id": "AyXnzzwi5n4r"
      },
      "execution_count": 10,
      "outputs": []
    },
    {
      "cell_type": "code",
      "source": [
        "reg = linear_model.LinearRegression()\n",
        "X = X_train\n",
        "y = y_train\n",
        "\n",
        "reg.fit(X,y)\n",
        "reg.intercept_\n"
      ],
      "metadata": {
        "colab": {
          "base_uri": "https://localhost:8080/"
        },
        "id": "jOPuMdR2yEW7",
        "outputId": "ee19452a-ccbd-43d2-b892-a6cb0a8bf97d"
      },
      "execution_count": 11,
      "outputs": [
        {
          "output_type": "execute_result",
          "data": {
            "text/plain": [
              "array([3156651.11337209])"
            ]
          },
          "metadata": {},
          "execution_count": 11
        }
      ]
    },
    {
      "cell_type": "code",
      "source": [
        "reg.coef_"
      ],
      "metadata": {
        "colab": {
          "base_uri": "https://localhost:8080/"
        },
        "id": "xCZIX7ILzSWD",
        "outputId": "798ef14a-4e4f-4745-f10f-cd647ce17819"
      },
      "execution_count": 12,
      "outputs": [
        {
          "output_type": "execute_result",
          "data": {
            "text/plain": [
              "array([[ 1.88985898e+01,  2.87269415e+05, -1.68578691e+05,\n",
              "         2.22989235e+04,  1.09493160e+04, -5.77848978e+04,\n",
              "         5.20795203e+02,  1.31572525e+04, -4.37478692e-01]])"
            ]
          },
          "metadata": {},
          "execution_count": 12
        }
      ]
    },
    {
      "cell_type": "code",
      "source": [
        "reg.score(X,y)"
      ],
      "metadata": {
        "colab": {
          "base_uri": "https://localhost:8080/"
        },
        "id": "pjT8TOCMzTxw",
        "outputId": "aa4899bb-f3dd-4619-96c0-3ef926e0e702"
      },
      "execution_count": 13,
      "outputs": [
        {
          "output_type": "execute_result",
          "data": {
            "text/plain": [
              "0.6136827747551008"
            ]
          },
          "metadata": {},
          "execution_count": 13
        }
      ]
    },
    {
      "cell_type": "code",
      "source": [
        "def calcAIC(x, y_data, y_predict):\n",
        "  colNum = len(x.columns)\n",
        "  rowNum = x.count()[0]\n",
        "  y_data = y_data.values\n",
        "  RSS = ( ( y_data - y_predict ) * ( y_data - y_predict ) ).sum()\n",
        "  AIC = rowNum * ( math.log( 2 * math.pi * RSS / rowNum ) + 1 ) + 2 * ( colNum + 2 )\n",
        "  return AIC"
      ],
      "metadata": {
        "id": "hRbIHHZ21pKW"
      },
      "execution_count": 14,
      "outputs": []
    },
    {
      "cell_type": "code",
      "source": [
        "def LR_stepwise_AIC(X, y, maxIter=100):\n",
        "  reg = linear_model.LinearRegression()\n",
        "  returnReg = linear_model.LinearRegression()\n",
        "  orgColList = X.columns\n",
        "  modelColList = []\n",
        "  maxR2modelColList = []\n",
        "  modelCoef = 0\n",
        "  modelIntercept = 0\n",
        "  modelR2 = 0\n",
        "  modelAIC = 1000000000\n",
        "  residueColList = copy.copy(orgColList)\n",
        "  # \n",
        "  count = 0\n",
        "  while count < maxIter:\n",
        "    count = count + 1\n",
        "    for i in range(len(residueColList)):\n",
        "      tmpColList = copy.copy(modelColList)\n",
        "      if residueColList[i] in tmpColList:\n",
        "        if len(tmpColList) > 1:\n",
        "          tmpColList.remove( residueColList[i] )\n",
        "        else:\n",
        "          continue\n",
        "      else:\n",
        "        tmpColList.append( residueColList[i] )\n",
        "      tmp_X = X.loc[:,tmpColList]\n",
        "      reg.fit(tmp_X, y)\n",
        "      if modelAIC > calcAIC(tmp_X, y, reg.predict(tmp_X) ):\n",
        "        maxR2modelColList = copy.copy(tmpColList)\n",
        "        modelR2 = reg.score(tmp_X, y)\n",
        "        modelAIC = calcAIC(tmp_X, y, reg.predict(tmp_X) )\n",
        "        print(\"model update: variables:\" + str(maxR2modelColList) + \", AIC: \" + str(modelAIC) )\n",
        "        returnReg = copy.copy(reg)\n",
        "    modelColList = copy.copy(maxR2modelColList)\n",
        "  return returnReg, modelColList"
      ],
      "metadata": {
        "id": "DRIpB4sU1xlv"
      },
      "execution_count": 15,
      "outputs": []
    },
    {
      "cell_type": "code",
      "source": [
        "reg, columns = LR_stepwise_AIC(std_X_train, std_y_train, maxIter=10)"
      ],
      "metadata": {
        "colab": {
          "base_uri": "https://localhost:8080/"
        },
        "id": "bqbapQOS11AI",
        "outputId": "8e9fe205-ff43-4b36-d8b5-868f9333f57e"
      },
      "execution_count": 16,
      "outputs": [
        {
          "output_type": "stream",
          "name": "stdout",
          "text": [
            "model update: variables:['STATION_USER'], AIC: 177.8965101003825\n",
            "model update: variables:['MINUTES_FROM_STATION'], AIC: 171.74825534980306\n",
            "model update: variables:['AREA'], AIC: 167.40337197867618\n",
            "model update: variables:['AREA', 'STATION_USER'], AIC: 150.36811213618202\n",
            "model update: variables:['AREA', 'STATION_USER', 'MINUTES_FROM_STATION'], AIC: 138.5121613237411\n",
            "model update: variables:['AREA', 'STATION_USER', 'MINUTES_FROM_STATION', 'COMPETITOR'], AIC: 136.46067654427048\n",
            "model update: variables:['AREA', 'STATION_USER', 'MINUTES_FROM_STATION', 'COMPETITOR', 'LEADER_AGE'], AIC: 135.36303182956624\n"
          ]
        }
      ]
    },
    {
      "cell_type": "markdown",
      "source": [
        "結果分析：\n",
        "透過stepwise法(AIC)從九個變數裡挑出與目標變數（銷售額）相關性較高的五個變出投入訓練模型"
      ],
      "metadata": {
        "id": "UWnqjzwrS44Y"
      }
    },
    {
      "cell_type": "code",
      "source": [
        "columns_aic = ['AREA', 'STATION_USER', 'MINUTES_FROM_STATION', 'COMPETITOR', 'LEADER_AGE']\n",
        "X_var = cafe.loc[:,columns_aic]\n",
        "y_var = cafe.loc[:,[\"SALES\"]]\n",
        "\n",
        "X_train, X_test, y_train, y_test = train_test_split(X_var, y_var, test_size=0.5, random_state=42)\n",
        "print(X_train.shape)\n",
        "print(X_test.shape)\n",
        "print(y_train.shape)\n",
        "print(y_test.shape)"
      ],
      "metadata": {
        "colab": {
          "base_uri": "https://localhost:8080/"
        },
        "id": "ZPoI1JtsTtA1",
        "outputId": "cce270be-2d91-4cc4-e73e-7d0b053eac2c"
      },
      "execution_count": 17,
      "outputs": [
        {
          "output_type": "stream",
          "name": "stdout",
          "text": [
            "(64, 5)\n",
            "(64, 5)\n",
            "(64, 1)\n",
            "(64, 1)\n"
          ]
        }
      ]
    },
    {
      "cell_type": "code",
      "source": [
        "std_object_x = StandardScaler()\n",
        "std_object_x.fit(X_train)\n",
        "std_X_train = pd.DataFrame(std_object_x.transform(X_train),columns=columns)\n",
        "std_X_test = pd.DataFrame(std_object_x.transform(X_test),columns=columns)"
      ],
      "metadata": {
        "id": "iRdbcom3VGQe"
      },
      "execution_count": 19,
      "outputs": []
    },
    {
      "cell_type": "code",
      "source": [
        "std_object_y = StandardScaler()\n",
        "std_object_y.fit(y_train)\n",
        "std_y_train = pd.DataFrame(std_object_y.transform(y_train),columns=[\"SALES\"])\n",
        "std_y_test = pd.DataFrame(std_object_y.transform(y_test),columns=[\"SALES\"])"
      ],
      "metadata": {
        "id": "MMKLBBtAVGTw"
      },
      "execution_count": 20,
      "outputs": []
    },
    {
      "cell_type": "code",
      "source": [
        "from sklearn.linear_model import Lasso"
      ],
      "metadata": {
        "id": "6lzZ1QSUU61v"
      },
      "execution_count": 18,
      "outputs": []
    },
    {
      "cell_type": "code",
      "source": [
        "reg_lasso = Lasso(alpha=0.1)\n",
        "reg_lasso.fit(std_X_train,std_y_train)"
      ],
      "metadata": {
        "colab": {
          "base_uri": "https://localhost:8080/"
        },
        "id": "uV7WNa3AUx4V",
        "outputId": "5d7ff185-f2ea-44de-a458-0e1fd80c7e1a"
      },
      "execution_count": 21,
      "outputs": [
        {
          "output_type": "execute_result",
          "data": {
            "text/plain": [
              "Lasso(alpha=0.1)"
            ]
          },
          "metadata": {},
          "execution_count": 21
        }
      ]
    },
    {
      "cell_type": "code",
      "source": [
        "def checkVIF( ExplanatoryVarDataSet ):\n",
        "  tmp_columnList = ExplanatoryVarDataSet.columns\n",
        "  vifList = []\n",
        "  for i in range(len(tmp_columnList)):\n",
        "    colname = tmp_columnList[i]\n",
        "    vif = variance_inflation_factor(ExplanatoryVarDataSet.values, i)\n",
        "    vifList.append( [ colname, vif ] )\n",
        "  return  pd.DataFrame( vifList, columns=[\"COLUMN\",\"VIF\"] )"
      ],
      "metadata": {
        "id": "yCIbinK2WIvB"
      },
      "execution_count": 28,
      "outputs": []
    },
    {
      "cell_type": "code",
      "source": [
        "#再一次檢查多重共線性\n",
        "\n",
        "result = pd.DataFrame( [ X_var.columns + [\"intercept\"]  , reg_lasso.coef_.tolist() + [reg_lasso.intercept_[0]] ] ).T\n",
        "result.columns = [\"COLUMN\",\"COEF\"]\n",
        "vif = checkVIF(std_X_train[X_var.columns])\n",
        "pd.merge( result, vif, on=\"COLUMN\", how=\"outer\")"
      ],
      "metadata": {
        "colab": {
          "base_uri": "https://localhost:8080/",
          "height": 390
        },
        "id": "ZHhX5u6-WN1A",
        "outputId": "b358555c-7b0e-4624-f9f8-9d42d3017195"
      },
      "execution_count": 29,
      "outputs": [
        {
          "output_type": "execute_result",
          "data": {
            "text/plain": [
              "                           COLUMN      COEF       VIF\n",
              "0                   AREAintercept  0.356717       NaN\n",
              "1           STATION_USERintercept  0.333728       NaN\n",
              "2   MINUTES_FROM_STATIONintercept  0.272039       NaN\n",
              "3             COMPETITORintercept -0.067987       NaN\n",
              "4             LEADER_AGEintercept -0.018758       NaN\n",
              "5                             NaN       0.0       NaN\n",
              "6                            AREA       NaN  1.161750\n",
              "7                    STATION_USER       NaN  1.018544\n",
              "8            MINUTES_FROM_STATION       NaN  1.153095\n",
              "9                      COMPETITOR       NaN  1.046378\n",
              "10                     LEADER_AGE       NaN  1.045696"
            ],
            "text/html": [
              "\n",
              "  <div id=\"df-87968004-8302-464b-a39b-db5b1f073bad\">\n",
              "    <div class=\"colab-df-container\">\n",
              "      <div>\n",
              "<style scoped>\n",
              "    .dataframe tbody tr th:only-of-type {\n",
              "        vertical-align: middle;\n",
              "    }\n",
              "\n",
              "    .dataframe tbody tr th {\n",
              "        vertical-align: top;\n",
              "    }\n",
              "\n",
              "    .dataframe thead th {\n",
              "        text-align: right;\n",
              "    }\n",
              "</style>\n",
              "<table border=\"1\" class=\"dataframe\">\n",
              "  <thead>\n",
              "    <tr style=\"text-align: right;\">\n",
              "      <th></th>\n",
              "      <th>COLUMN</th>\n",
              "      <th>COEF</th>\n",
              "      <th>VIF</th>\n",
              "    </tr>\n",
              "  </thead>\n",
              "  <tbody>\n",
              "    <tr>\n",
              "      <th>0</th>\n",
              "      <td>AREAintercept</td>\n",
              "      <td>0.356717</td>\n",
              "      <td>NaN</td>\n",
              "    </tr>\n",
              "    <tr>\n",
              "      <th>1</th>\n",
              "      <td>STATION_USERintercept</td>\n",
              "      <td>0.333728</td>\n",
              "      <td>NaN</td>\n",
              "    </tr>\n",
              "    <tr>\n",
              "      <th>2</th>\n",
              "      <td>MINUTES_FROM_STATIONintercept</td>\n",
              "      <td>0.272039</td>\n",
              "      <td>NaN</td>\n",
              "    </tr>\n",
              "    <tr>\n",
              "      <th>3</th>\n",
              "      <td>COMPETITORintercept</td>\n",
              "      <td>-0.067987</td>\n",
              "      <td>NaN</td>\n",
              "    </tr>\n",
              "    <tr>\n",
              "      <th>4</th>\n",
              "      <td>LEADER_AGEintercept</td>\n",
              "      <td>-0.018758</td>\n",
              "      <td>NaN</td>\n",
              "    </tr>\n",
              "    <tr>\n",
              "      <th>5</th>\n",
              "      <td>NaN</td>\n",
              "      <td>0.0</td>\n",
              "      <td>NaN</td>\n",
              "    </tr>\n",
              "    <tr>\n",
              "      <th>6</th>\n",
              "      <td>AREA</td>\n",
              "      <td>NaN</td>\n",
              "      <td>1.161750</td>\n",
              "    </tr>\n",
              "    <tr>\n",
              "      <th>7</th>\n",
              "      <td>STATION_USER</td>\n",
              "      <td>NaN</td>\n",
              "      <td>1.018544</td>\n",
              "    </tr>\n",
              "    <tr>\n",
              "      <th>8</th>\n",
              "      <td>MINUTES_FROM_STATION</td>\n",
              "      <td>NaN</td>\n",
              "      <td>1.153095</td>\n",
              "    </tr>\n",
              "    <tr>\n",
              "      <th>9</th>\n",
              "      <td>COMPETITOR</td>\n",
              "      <td>NaN</td>\n",
              "      <td>1.046378</td>\n",
              "    </tr>\n",
              "    <tr>\n",
              "      <th>10</th>\n",
              "      <td>LEADER_AGE</td>\n",
              "      <td>NaN</td>\n",
              "      <td>1.045696</td>\n",
              "    </tr>\n",
              "  </tbody>\n",
              "</table>\n",
              "</div>\n",
              "      <button class=\"colab-df-convert\" onclick=\"convertToInteractive('df-87968004-8302-464b-a39b-db5b1f073bad')\"\n",
              "              title=\"Convert this dataframe to an interactive table.\"\n",
              "              style=\"display:none;\">\n",
              "        \n",
              "  <svg xmlns=\"http://www.w3.org/2000/svg\" height=\"24px\"viewBox=\"0 0 24 24\"\n",
              "       width=\"24px\">\n",
              "    <path d=\"M0 0h24v24H0V0z\" fill=\"none\"/>\n",
              "    <path d=\"M18.56 5.44l.94 2.06.94-2.06 2.06-.94-2.06-.94-.94-2.06-.94 2.06-2.06.94zm-11 1L8.5 8.5l.94-2.06 2.06-.94-2.06-.94L8.5 2.5l-.94 2.06-2.06.94zm10 10l.94 2.06.94-2.06 2.06-.94-2.06-.94-.94-2.06-.94 2.06-2.06.94z\"/><path d=\"M17.41 7.96l-1.37-1.37c-.4-.4-.92-.59-1.43-.59-.52 0-1.04.2-1.43.59L10.3 9.45l-7.72 7.72c-.78.78-.78 2.05 0 2.83L4 21.41c.39.39.9.59 1.41.59.51 0 1.02-.2 1.41-.59l7.78-7.78 2.81-2.81c.8-.78.8-2.07 0-2.86zM5.41 20L4 18.59l7.72-7.72 1.47 1.35L5.41 20z\"/>\n",
              "  </svg>\n",
              "      </button>\n",
              "      \n",
              "  <style>\n",
              "    .colab-df-container {\n",
              "      display:flex;\n",
              "      flex-wrap:wrap;\n",
              "      gap: 12px;\n",
              "    }\n",
              "\n",
              "    .colab-df-convert {\n",
              "      background-color: #E8F0FE;\n",
              "      border: none;\n",
              "      border-radius: 50%;\n",
              "      cursor: pointer;\n",
              "      display: none;\n",
              "      fill: #1967D2;\n",
              "      height: 32px;\n",
              "      padding: 0 0 0 0;\n",
              "      width: 32px;\n",
              "    }\n",
              "\n",
              "    .colab-df-convert:hover {\n",
              "      background-color: #E2EBFA;\n",
              "      box-shadow: 0px 1px 2px rgba(60, 64, 67, 0.3), 0px 1px 3px 1px rgba(60, 64, 67, 0.15);\n",
              "      fill: #174EA6;\n",
              "    }\n",
              "\n",
              "    [theme=dark] .colab-df-convert {\n",
              "      background-color: #3B4455;\n",
              "      fill: #D2E3FC;\n",
              "    }\n",
              "\n",
              "    [theme=dark] .colab-df-convert:hover {\n",
              "      background-color: #434B5C;\n",
              "      box-shadow: 0px 1px 3px 1px rgba(0, 0, 0, 0.15);\n",
              "      filter: drop-shadow(0px 1px 2px rgba(0, 0, 0, 0.3));\n",
              "      fill: #FFFFFF;\n",
              "    }\n",
              "  </style>\n",
              "\n",
              "      <script>\n",
              "        const buttonEl =\n",
              "          document.querySelector('#df-87968004-8302-464b-a39b-db5b1f073bad button.colab-df-convert');\n",
              "        buttonEl.style.display =\n",
              "          google.colab.kernel.accessAllowed ? 'block' : 'none';\n",
              "\n",
              "        async function convertToInteractive(key) {\n",
              "          const element = document.querySelector('#df-87968004-8302-464b-a39b-db5b1f073bad');\n",
              "          const dataTable =\n",
              "            await google.colab.kernel.invokeFunction('convertToInteractive',\n",
              "                                                     [key], {});\n",
              "          if (!dataTable) return;\n",
              "\n",
              "          const docLinkHtml = 'Like what you see? Visit the ' +\n",
              "            '<a target=\"_blank\" href=https://colab.research.google.com/notebooks/data_table.ipynb>data table notebook</a>'\n",
              "            + ' to learn more about interactive tables.';\n",
              "          element.innerHTML = '';\n",
              "          dataTable['output_type'] = 'display_data';\n",
              "          await google.colab.output.renderOutput(dataTable, element);\n",
              "          const docLink = document.createElement('div');\n",
              "          docLink.innerHTML = docLinkHtml;\n",
              "          element.appendChild(docLink);\n",
              "        }\n",
              "      </script>\n",
              "    </div>\n",
              "  </div>\n",
              "  "
            ]
          },
          "metadata": {},
          "execution_count": 29
        }
      ]
    },
    {
      "cell_type": "code",
      "source": [
        "from sklearn.metrics import r2_score, mean_squared_error, mean_absolute_error, median_absolute_error\n",
        "import numpy as np"
      ],
      "metadata": {
        "id": "fp_Y5PQMVnTH"
      },
      "execution_count": 31,
      "outputs": []
    },
    {
      "cell_type": "code",
      "source": [
        "lasso_list = []\n",
        "lasso_list.append(r2_score(std_y_test, reg_lasso.predict(std_X_test)))\n",
        "lasso_list.append(mean_squared_error(std_y_test, reg_lasso.predict(std_X_test)))\n",
        "lasso_list.append(mean_absolute_error(std_y_test, reg_lasso.predict(std_X_test)))\n",
        "lasso_list.append(median_absolute_error(std_y_test, reg_lasso.predict(std_X_test)))\n",
        "\n",
        "print(lasso_list)"
      ],
      "metadata": {
        "colab": {
          "base_uri": "https://localhost:8080/"
        },
        "id": "rSykMQB6U6Yz",
        "outputId": "228f84fd-13cc-4c49-9880-7b88dd7a5b1d"
      },
      "execution_count": 25,
      "outputs": [
        {
          "output_type": "stream",
          "name": "stdout",
          "text": [
            "[0.7640238585395739, 0.2572740788736443, 0.4162042940353184, 0.39218632606720727]\n"
          ]
        }
      ]
    },
    {
      "cell_type": "code",
      "source": [
        "comparison = pd.DataFrame(np.array([lasso_list]), columns=['r2_score','mean_squared_error', 'mean_absolute_error', 'median_absolute_error']\n",
        "                          ,index=['lasso'])\n",
        "comparison"
      ],
      "metadata": {
        "colab": {
          "base_uri": "https://localhost:8080/",
          "height": 80
        },
        "id": "imYfaE5CXLUz",
        "outputId": "dd3b762a-37e3-43d3-9cdc-461a2eef92a1"
      },
      "execution_count": 32,
      "outputs": [
        {
          "output_type": "execute_result",
          "data": {
            "text/plain": [
              "       r2_score  mean_squared_error  mean_absolute_error  \\\n",
              "lasso  0.764024            0.257274             0.416204   \n",
              "\n",
              "       median_absolute_error  \n",
              "lasso               0.392186  "
            ],
            "text/html": [
              "\n",
              "  <div id=\"df-376932e3-7712-42ce-a91f-7768c86d2d58\">\n",
              "    <div class=\"colab-df-container\">\n",
              "      <div>\n",
              "<style scoped>\n",
              "    .dataframe tbody tr th:only-of-type {\n",
              "        vertical-align: middle;\n",
              "    }\n",
              "\n",
              "    .dataframe tbody tr th {\n",
              "        vertical-align: top;\n",
              "    }\n",
              "\n",
              "    .dataframe thead th {\n",
              "        text-align: right;\n",
              "    }\n",
              "</style>\n",
              "<table border=\"1\" class=\"dataframe\">\n",
              "  <thead>\n",
              "    <tr style=\"text-align: right;\">\n",
              "      <th></th>\n",
              "      <th>r2_score</th>\n",
              "      <th>mean_squared_error</th>\n",
              "      <th>mean_absolute_error</th>\n",
              "      <th>median_absolute_error</th>\n",
              "    </tr>\n",
              "  </thead>\n",
              "  <tbody>\n",
              "    <tr>\n",
              "      <th>lasso</th>\n",
              "      <td>0.764024</td>\n",
              "      <td>0.257274</td>\n",
              "      <td>0.416204</td>\n",
              "      <td>0.392186</td>\n",
              "    </tr>\n",
              "  </tbody>\n",
              "</table>\n",
              "</div>\n",
              "      <button class=\"colab-df-convert\" onclick=\"convertToInteractive('df-376932e3-7712-42ce-a91f-7768c86d2d58')\"\n",
              "              title=\"Convert this dataframe to an interactive table.\"\n",
              "              style=\"display:none;\">\n",
              "        \n",
              "  <svg xmlns=\"http://www.w3.org/2000/svg\" height=\"24px\"viewBox=\"0 0 24 24\"\n",
              "       width=\"24px\">\n",
              "    <path d=\"M0 0h24v24H0V0z\" fill=\"none\"/>\n",
              "    <path d=\"M18.56 5.44l.94 2.06.94-2.06 2.06-.94-2.06-.94-.94-2.06-.94 2.06-2.06.94zm-11 1L8.5 8.5l.94-2.06 2.06-.94-2.06-.94L8.5 2.5l-.94 2.06-2.06.94zm10 10l.94 2.06.94-2.06 2.06-.94-2.06-.94-.94-2.06-.94 2.06-2.06.94z\"/><path d=\"M17.41 7.96l-1.37-1.37c-.4-.4-.92-.59-1.43-.59-.52 0-1.04.2-1.43.59L10.3 9.45l-7.72 7.72c-.78.78-.78 2.05 0 2.83L4 21.41c.39.39.9.59 1.41.59.51 0 1.02-.2 1.41-.59l7.78-7.78 2.81-2.81c.8-.78.8-2.07 0-2.86zM5.41 20L4 18.59l7.72-7.72 1.47 1.35L5.41 20z\"/>\n",
              "  </svg>\n",
              "      </button>\n",
              "      \n",
              "  <style>\n",
              "    .colab-df-container {\n",
              "      display:flex;\n",
              "      flex-wrap:wrap;\n",
              "      gap: 12px;\n",
              "    }\n",
              "\n",
              "    .colab-df-convert {\n",
              "      background-color: #E8F0FE;\n",
              "      border: none;\n",
              "      border-radius: 50%;\n",
              "      cursor: pointer;\n",
              "      display: none;\n",
              "      fill: #1967D2;\n",
              "      height: 32px;\n",
              "      padding: 0 0 0 0;\n",
              "      width: 32px;\n",
              "    }\n",
              "\n",
              "    .colab-df-convert:hover {\n",
              "      background-color: #E2EBFA;\n",
              "      box-shadow: 0px 1px 2px rgba(60, 64, 67, 0.3), 0px 1px 3px 1px rgba(60, 64, 67, 0.15);\n",
              "      fill: #174EA6;\n",
              "    }\n",
              "\n",
              "    [theme=dark] .colab-df-convert {\n",
              "      background-color: #3B4455;\n",
              "      fill: #D2E3FC;\n",
              "    }\n",
              "\n",
              "    [theme=dark] .colab-df-convert:hover {\n",
              "      background-color: #434B5C;\n",
              "      box-shadow: 0px 1px 3px 1px rgba(0, 0, 0, 0.15);\n",
              "      filter: drop-shadow(0px 1px 2px rgba(0, 0, 0, 0.3));\n",
              "      fill: #FFFFFF;\n",
              "    }\n",
              "  </style>\n",
              "\n",
              "      <script>\n",
              "        const buttonEl =\n",
              "          document.querySelector('#df-376932e3-7712-42ce-a91f-7768c86d2d58 button.colab-df-convert');\n",
              "        buttonEl.style.display =\n",
              "          google.colab.kernel.accessAllowed ? 'block' : 'none';\n",
              "\n",
              "        async function convertToInteractive(key) {\n",
              "          const element = document.querySelector('#df-376932e3-7712-42ce-a91f-7768c86d2d58');\n",
              "          const dataTable =\n",
              "            await google.colab.kernel.invokeFunction('convertToInteractive',\n",
              "                                                     [key], {});\n",
              "          if (!dataTable) return;\n",
              "\n",
              "          const docLinkHtml = 'Like what you see? Visit the ' +\n",
              "            '<a target=\"_blank\" href=https://colab.research.google.com/notebooks/data_table.ipynb>data table notebook</a>'\n",
              "            + ' to learn more about interactive tables.';\n",
              "          element.innerHTML = '';\n",
              "          dataTable['output_type'] = 'display_data';\n",
              "          await google.colab.output.renderOutput(dataTable, element);\n",
              "          const docLink = document.createElement('div');\n",
              "          docLink.innerHTML = docLinkHtml;\n",
              "          element.appendChild(docLink);\n",
              "        }\n",
              "      </script>\n",
              "    </div>\n",
              "  </div>\n",
              "  "
            ]
          },
          "metadata": {},
          "execution_count": 32
        }
      ]
    }
  ]
}